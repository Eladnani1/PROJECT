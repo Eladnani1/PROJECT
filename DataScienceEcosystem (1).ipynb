{
 "cells": [
  {
   "cell_type": "markdown",
   "id": "565e600c-e29f-4bdb-ae2b-0113121d2b53",
   "metadata": {},
   "source": [
    "# Data Science Tools and Ecosystem\n"
   ]
  },
  {
   "cell_type": "markdown",
   "id": "e41fb272-cd71-4737-9707-6eb23978e8c7",
   "metadata": {},
   "source": [
    "In this notebook, Data Science Tools and Ecosystem are summarized."
   ]
  },
  {
   "cell_type": "markdown",
   "id": "506484f7-834d-40e0-9c05-063ad3a72071",
   "metadata": {},
   "source": [
    "OBJECTIVES : \n",
    "- Popular languages\n",
    "- Libraries\n",
    "- Data science Tools"
   ]
  },
  {
   "cell_type": "markdown",
   "id": "4b3d1e37-b74b-4e8c-95f4-0e06ee87db3a",
   "metadata": {},
   "source": [
    "Some of the popular languages that Data Scientists use are:PYTHON , R and SQL\n",
    "Python\n",
    "R\n",
    "SQL\n",
    "Scala\n",
    "Java\n",
    "C++\n",
    "Julia\n",
    "JavaScript\n",
    "PHP\n",
    "Go\n",
    "Ruby\n",
    "Visual Basic"
   ]
  },
  {
   "cell_type": "markdown",
   "id": "dfd10d0c-d428-4c11-9416-076b652e6741",
   "metadata": {},
   "source": [
    "Some of the commonly used libraries used by Data Scientists include:\n",
    "Pandas\n",
    "Numpy\n",
    "Matplotlib\n",
    "Seaborn\n",
    "Scikit-learn\n",
    "Keras\n",
    "TensorFlow\n",
    "PyTorch\n",
    "Apache Spark\n",
    "Vegas\n",
    "Big DL\n",
    "Ggplot2"
   ]
  },
  {
   "cell_type": "markdown",
   "id": "c2b5c6e1-4d58-419a-b1f3-ddf5d5058351",
   "metadata": {},
   "source": [
    "| Data Science Tools |\n",
    "|--------------------|\n",
    "| ANACONDA           |\n",
    "| JUPYTER NOTEBOOKS  |\n",
    "| R STUDIO           |\n",
    "| SPYDER             |\n",
    "| ZEPPELIN           |"
   ]
  },
  {
   "cell_type": "markdown",
   "id": "c26f20dd-db10-4d4d-8895-1ae8b40f877b",
   "metadata": {},
   "source": [
    "### Below are a few examples of evaluating arithmetic expressions in Python"
   ]
  },
  {
   "cell_type": "markdown",
   "id": "c29681b9-8eaa-4b4d-ae7f-ecc6900077c3",
   "metadata": {},
   "source": [
    "This a simple arithmetic expression to mutiply then add integers(3*4)+5"
   ]
  },
  {
   "cell_type": "code",
   "execution_count": 3,
   "id": "3aaa100b-ff99-482a-9380-b97280578734",
   "metadata": {},
   "outputs": [
    {
     "data": {
      "text/plain": [
       "17"
      ]
     },
     "execution_count": 3,
     "metadata": {},
     "output_type": "execute_result"
    }
   ],
   "source": [
    "(3*4)+5"
   ]
  },
  {
   "cell_type": "markdown",
   "id": "349b207a-650a-4724-8ec3-f053cb5882d2",
   "metadata": {},
   "source": [
    "This will convert 200 minutes to hours by diving by 60"
   ]
  },
  {
   "cell_type": "code",
   "execution_count": 4,
   "id": "01e2a87b-4232-4532-afa7-9224dbd1b41d",
   "metadata": {},
   "outputs": [
    {
     "data": {
      "text/plain": [
       "3.3333333333333335"
      ]
     },
     "execution_count": 4,
     "metadata": {},
     "output_type": "execute_result"
    }
   ],
   "source": [
    "200/60"
   ]
  },
  {
   "cell_type": "markdown",
   "id": "2658176a-1225-4821-a310-c3ff6728bd99",
   "metadata": {},
   "source": [
    "## Author : EL ADNANI ABDELILAH "
   ]
  },
  {
   "cell_type": "code",
   "execution_count": null,
   "id": "00b8621d-1bda-456c-8c72-cff4c0836886",
   "metadata": {},
   "outputs": [],
   "source": []
  }
 ],
 "metadata": {
  "kernelspec": {
   "display_name": "Python 3 (ipykernel)",
   "language": "python",
   "name": "python3"
  },
  "language_info": {
   "codemirror_mode": {
    "name": "ipython",
    "version": 3
   },
   "file_extension": ".py",
   "mimetype": "text/x-python",
   "name": "python",
   "nbconvert_exporter": "python",
   "pygments_lexer": "ipython3",
   "version": "3.13.5"
  }
 },
 "nbformat": 4,
 "nbformat_minor": 5
}
